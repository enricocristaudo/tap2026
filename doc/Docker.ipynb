{
 "cells": [
  {
   "cell_type": "raw",
   "metadata": {
    "editable": true,
    "raw_mimetype": "",
    "slideshow": {
     "slide_type": ""
    },
    "tags": []
   },
   "source": [
    "---\n",
    "title: \"Docker\"\n",
    "author: \"Salvo Nicotra\"\n",
    "format:\n",
    "   revealjs:\n",
    "        width: 1280\n",
    "        heigth: 800\n",
    "incremental: true  \n",
    "theme: white\n",
    "chalkboard: true\n",
    "css: style.css\n",
    "smaller: true\n",
    "scrollable: true\n",
    "include-before: |\n",
    "    <img src=\"images/unict-logo.png\" class=\"custom-logo\" alt=\"Logo\">\n",
    "include-after: |\n",
    "      <div class=\"custom-footer\">\n",
    "        *** Technologies for advanced programming (TAP) - 2025/2026 ***\n",
    "      </div>\n",
    "---"
   ]
  },
  {
   "cell_type": "markdown",
   "metadata": {
    "editable": true,
    "raw_mimetype": "",
    "slideshow": {
     "slide_type": "slide"
    },
    "tags": []
   },
   "source": [
    "# Introduction to containers{background-color=\"black\" background-image=\"images/container.jpg\" background-size=\"100%\"}"
   ]
  },
  {
   "cell_type": "markdown",
   "metadata": {
    "editable": true,
    "slideshow": {
     "slide_type": "subslide"
    },
    "tags": []
   },
   "source": [
    "## [What is a Container?](https://www.docker.com/resources/what-container)\n",
    "\n",
    "::::{.columns}\n",
    "\n",
    "::: {.fragment .column width=\"50%\"}\n",
    "\n",
    "- A standardized unit of software\n",
    "- A container is a standard unit of software that packages up code and all its dependencies so the application runs quickly and reliably from one computing environment to another\n",
    "\n",
    ":::\n",
    "\n",
    "::: {.fragment .column width=\"50%\"}\n",
    "\n",
    "![](https://www.docker.com/wp-content/uploads/2021/11/Docker-Website-2018-Diagrams-071918-V5_26_Docker-today.png.webp)\n",
    "\n",
    ":::\n",
    "\n",
    "::::"
   ]
  },
  {
   "cell_type": "markdown",
   "metadata": {
    "cell_style": "center",
    "editable": true,
    "slideshow": {
     "slide_type": "subslide"
    },
    "tags": []
   },
   "source": [
    "## [Containers 101](https://cloud.google.com/learn/what-are-containers)\n",
    "\n",
    ":::: {.columns}\n",
    "\n",
    "::: {.fragment .column width=\"50%\"}\n",
    "- Containers are packages of software that contain all of the necessary elements to run in any environment. \n",
    "- In this way, containers virtualize the operating system and run anywhere, from a private data center to the public cloud or even on a developer’s personal laptop. \n",
    "- From Gmail to YouTube to Search, everything at Google runs in containers. \n",
    "- Containerization allows our development teams to move fast, deploy software efficiently, and operate at an unprecedented scale\n",
    "::: \n",
    "\n",
    "::: {.fragment .column width=\"50%\"}\n",
    "![](https://i.imgflip.com/8jjsp3.jpg)\n",
    "[NicsMeme](https://imgflip.com/i/8jjsp3)\n",
    ":::\n",
    "::::"
   ]
  },
  {
   "cell_type": "markdown",
   "metadata": {
    "editable": true,
    "slideshow": {
     "slide_type": "subslide"
    },
    "tags": []
   },
   "source": [
    "## [What's a Linux container?](https://www.redhat.com/en/topics/containers/whats-a-linux-container)\n",
    "\n",
    ":::: {.columns}\n",
    "\n",
    "::: {.fragment .column width=\"50%\"}\n",
    "- A Linux® container is a set of one or more processes that are isolated from the rest of the system. \n",
    "\n",
    "- All the files necessary to run them are provided from a distinct image, meaning that Linux containers are portable and consistent as they move from development, to testing, and finally to production. \n",
    "\n",
    "- This makes them much quicker than development pipelines that rely on replicating traditional testing environments. \n",
    "\n",
    "- Because of their popularity and ease of use containers are also an important part of IT security.\n",
    "\n",
    "::: \n",
    "\n",
    "::: {.fragment .column width=\"50%\"}\n",
    "![](https://www.redhat.com/cms/managed-files/Containers1-Keyart2_0.png)\n",
    ":::\n",
    "::::"
   ]
  },
  {
   "cell_type": "markdown",
   "metadata": {
    "cell_style": "center",
    "editable": true,
    "slideshow": {
     "slide_type": "slide"
    },
    "tags": []
   },
   "source": [
    "## [Docker](https://www.docker.com/resources/what-container)\n",
    "\n",
    ":::: {.columns}\n",
    "\n",
    "::: {.fragment .column width=\"33%\"}\n",
    "A Docker container image is a lightweight, standalone, executable package of software that includes everything needed to run an application: code, runtime, system tools, system libraries and settings.\n",
    "::: \n",
    "\n",
    "::: {.fragment .column width=\"33%\"}\n",
    "![](https://upload.wikimedia.org/wikipedia/commons/thumb/f/fb/Package.svg/339px-Package.svg.png)\n",
    ":::\n",
    "\n",
    "\n",
    "::: {.fragment .column width=\"33%\" }\n",
    "In Docker **images** become **containers** when they run on Docker Engine.\n",
    ":::\n",
    "::::"
   ]
  },
  {
   "cell_type": "markdown",
   "metadata": {
    "editable": true,
    "slideshow": {
     "slide_type": "subslide"
    },
    "tags": []
   },
   "source": [
    "## Features\n",
    "Docker containers that run on Docker Engine:\n",
    "\n",
    "- **Standard**: Docker created the industry standard for containers, so they could be portable anywhere\n",
    "- **Lightweight**: Containers share the machine’s OS system kernel and therefore do not require an OS per application, driving higher server efficiencies and reducing server and licensing costs\n",
    "- **Secure**: Applications are safer in containers and Docker provides the strongest default isolation capabilities in the industry"
   ]
  },
  {
   "cell_type": "markdown",
   "metadata": {
    "editable": true,
    "slideshow": {
     "slide_type": "slide"
    },
    "tags": []
   },
   "source": [
    "## Container vs Virtual Machines\n",
    "\n",
    ":::: {.columns}\n",
    "\n",
    "::: {.fragment .column width=\"50%\"}\n",
    "\n",
    "**CONTAINER**\n",
    "\n",
    "Containers are an abstraction at the app layer that packages code and dependencies together. Multiple containers can run on the same machine and share the OS kernel with other containers, each running as isolated processes in user space. Containers take up less space than VMs (container images are typically tens of MBs in size), can handle more applications and require fewer VMs and Operating systems.\n",
    "::: \n",
    "\n",
    "::: {.fragment .column width=\"50%\"}\n",
    "**VIRTUAL MACHINES**\n",
    "\n",
    "Virtual machines (VMs) are an abstraction of physical hardware turning one server into many servers. The hypervisor allows multiple VMs to run on a single machine. \n",
    "\n",
    "Each VM includes a full copy of an operating system, the application, necessary binaries and libraries - taking up tens of GBs. VMs can also be slow to boot\n",
    ":::\n",
    "::::"
   ]
  },
  {
   "cell_type": "markdown",
   "metadata": {
    "cell_style": "split",
    "editable": true,
    "slideshow": {
     "slide_type": "subslide"
    },
    "tags": []
   },
   "source": [
    "## Visual comparison containers vs virtual machines\n",
    ":::: {.columns}\n",
    "\n",
    "::: {.fragment .column width=\"50%\"}\n",
    "![](images/docker-containerized-appliction-blue-border_2.png)\n",
    "\n",
    ":::\n",
    "::: {.fragment .column width=\"50%\"}\n",
    "![](images/container-vm-whatcontainer_2.png)\n",
    "\n",
    ":::\n",
    "::::"
   ]
  },
  {
   "cell_type": "markdown",
   "metadata": {
    "editable": true,
    "slideshow": {
     "slide_type": "subslide"
    },
    "tags": []
   },
   "source": [
    "## Some Videos\n",
    "\n",
    ":::: {.columns}\n",
    "\n",
    "::: {.fragment .column width=\"50%\"}\n",
    "[▶![](https://img.youtube.com/vi/L1ie8negCjc/0.jpg)](https://www.youtube.com/watch?v=L1ie8negCjc)\n",
    "\n",
    "::: \n",
    "\n",
    "::: {.fragment .column width=\"50%\"}\n",
    "[▶![](https://img.youtube.com/vi/cjXI-yxqGTI/0.jpg)](https://www.youtube.com/watch?v=cjXI-yxqGTI)\n",
    ":::\n",
    "::::"
   ]
  },
  {
   "cell_type": "markdown",
   "metadata": {
    "editable": true,
    "slideshow": {
     "slide_type": "subslide"
    },
    "tags": []
   },
   "source": [
    "## Containers && Virtual Machines\n",
    "\n",
    "https://medium.com/better-programming/containers-and-virtual-machines-an-overview-94c558905b6\n",
    "\n",
    ":::{.fragment}\n",
    "\n",
    "![](images/containersandvirtualmachine.png)\n",
    "\n",
    ":::\n"
   ]
  },
  {
   "cell_type": "markdown",
   "metadata": {
    "editable": true,
    "slideshow": {
     "slide_type": "slide"
    },
    "tags": []
   },
   "source": [
    "## Docker Architecture\n",
    "\n",
    "\n",
    "![](images/docker-architecture.svg)"
   ]
  },
  {
   "cell_type": "markdown",
   "metadata": {
    "editable": true,
    "slideshow": {
     "slide_type": "slide"
    },
    "tags": []
   },
   "source": [
    "## Install Docker\n",
    "\n",
    "[See docs](https://docs.docker.com/engine/install/)\n",
    "\n",
    "![](images/addcontainerttopc.png){.r-stretch}"
   ]
  },
  {
   "cell_type": "markdown",
   "metadata": {
    "editable": true,
    "slideshow": {
     "slide_type": "subslide"
    },
    "tags": []
   },
   "source": [
    "## Windows (WSL)\n",
    "\n",
    "#### History from Docker Blog\n",
    ":::{.r-scretch}\n",
    "| Date        | Title |\n",
    "| ----------  | ----- |\n",
    "| Nov 22 2024 | Docker Desktop 4.36: New Enterprise Administration Features, WSL 2, and ECI Enhancements |\n",
    "| Jul 11 2023 | [Optimizing Deep Learning Workflows: Leveraging Stable Diffusion and Docker on WSL 2](https://www.docker.com/blog/stable-diffusion-and-docker-on-wsl2/)|\n",
    "| Dec 15 2021 | [WSL 2 GPU Support for Docker Desktop on NVIDIA GPUs](https://www.docker.com/blog/wsl-2-gpu-support-for-docker-desktop-on-nvidia-gpus/)|\n",
    "| Dec 21 2020 | [WSL 2 GPU Support is Here](https://www.docker.com/blog/wsl-2-gpu-support-is-here/) |\n",
    "| Aug 20 2020 | [Docker Desktop & WSL 2 – Backport Update](https://www.docker.com/blog/docker-desktop-wsl-2-backport-update/) |\n",
    "| May 20 2020 | [Creating the best Linux Development experience on Windows & WSL 2](https://www.docker.com/blog/creating-the-best-linux-development-experience-on-windows-wsl-2/)|\n",
    "| May 04 2020 | [Docker Desktop: WSL 2 Best practices](https://www.docker.com/blog/docker-desktop-wsl-2-best-practices/) |\n",
    "| Apr 13 2020 | [How we test Docker Desktop with WSL 2](https://www.docker.com/blog/how-we-test-docker-desktop-with-wsl-2/)|\n",
    "| Jun 16 2019 | [Docker ❤️ WSL 2 – The Future of Docker Desktop for Windows](https://www.docker.com/blog/docker-hearts-wsl-2/) |\n",
    "| Jul 31 2019 | [5 Things to Try with Docker Desktop WSL 2 Tech Preview - Link Broken](https://www.docker.com/blog/5-things-docker-desktop-wsl2-tech-preview/) |\n",
    "| Aug 14 2019 | [Developing Docker-Powered Apps on Windows with WSL](https://www.docker.com/blog/developing-docker-windows-app-wsl2/) |\n",
    "| Oct 24 2019 | [Introducing the Docker Desktop WSL 2 Backend](https://www.docker.com/blog/new-docker-desktop-wsl2-backend/) |\n",
    ":::"
   ]
  },
  {
   "cell_type": "markdown",
   "metadata": {
    "cell_style": "center",
    "editable": true,
    "slideshow": {
     "slide_type": "subslide"
    },
    "tags": []
   },
   "source": [
    "## [From Docker Docs](https://docs.docker.com/docker-for-windows/wsl/)\n",
    "\n",
    ":::: {.columns}\n",
    "::: {.fragment .column width=\"50%\"}\n",
    "- Windows Subsystem for Linux (WSL) 2 is a full Linux kernel built by Microsoft, which lets Linux distributions run without managing virtual machines. With Docker Desktop running on WSL 2, users can leverage Linux workspaces and avoid maintaining both Linux and Windows build scripts. In addition, WSL 2 provides improvements to file system sharing and boot time.\n",
    "\n",
    "- Docker Desktop uses the dynamic memory allocation feature in WSL 2 to improve the resource consumption. This means Docker Desktop only uses the required amount of CPU and memory resources it needs, while allowing CPU and memory-intensive tasks such as building a container, to run much faster.\n",
    "\n",
    "- Additionally, with WSL 2, the time required to start a Docker daemon after a cold start is significantly faster\n",
    ":::\n",
    "::: {.fragment .column width=\"50%\"}\n",
    "![](https://img.devrant.com/devrant/rant/r_1933665_e3nej.jpg)\n",
    "https://devrant.com/rants/1933665/marvelous\n",
    ":::\n",
    "::::"
   ]
  },
  {
   "cell_type": "markdown",
   "metadata": {
    "slideshow": {
     "slide_type": "subslide"
    }
   },
   "source": [
    "## Linux\n",
    "::: {.fragment}\n",
    "![](https://i.imgflip.com/7elf5o.jpg)\n",
    ":::"
   ]
  },
  {
   "cell_type": "markdown",
   "metadata": {
    "slideshow": {
     "slide_type": "subslide"
    }
   },
   "source": [
    "## Mac\n",
    "\n",
    "::: {.fragment}\n",
    "![](https://i.redd.it/yy2amgcfwwk31.png)\n",
    "https://www.reddit.com/r/ProgrammerHumor/comments/d0ck7i/docker_on_mac/\n",
    ":::"
   ]
  },
  {
   "cell_type": "markdown",
   "metadata": {
    "editable": true,
    "slideshow": {
     "slide_type": "subslide"
    },
    "tags": []
   },
   "source": [
    "## Docker Desktop for Apple silicon\n",
    "\n",
    ":::: {.columns}\n",
    "\n",
    "::: {.fragment .column width=\"50%\"}\n",
    "M1 Released \n",
    "\n",
    "![](https://1.bp.blogspot.com/-VVMY436xVtQ/X9aQFwHUTTI/AAAAAAAAUZw/rHeLkAWALVwIVIj82MshhUflPl9_9SKgwCLcBGAsYHQ/s320/9e9.gif)\n",
    "\n",
    "::: \n",
    "\n",
    "::: {.fragment .column width=\"50%\"}\n",
    "15 April 2021\n",
    "https://www.docker.com/blog/released-docker-desktop-for-mac-apple-silicon/\n",
    "https://docs.docker.com/desktop/mac/apple-silicon/\n",
    ":::\n",
    "::::\n"
   ]
  },
  {
   "cell_type": "markdown",
   "metadata": {
    "editable": true,
    "slideshow": {
     "slide_type": "slide"
    },
    "tags": []
   },
   "source": [
    "# Demo"
   ]
  },
  {
   "cell_type": "markdown",
   "metadata": {
    "editable": true,
    "slideshow": {
     "slide_type": ""
    },
    "tags": []
   },
   "source": [
    "## Docker version"
   ]
  },
  {
   "cell_type": "code",
   "execution_count": 1,
   "metadata": {
    "editable": true,
    "slideshow": {
     "slide_type": "fragment"
    },
    "tags": []
   },
   "outputs": [
    {
     "name": "stdout",
     "output_type": "stream",
     "text": [
      "Docker version 28.4.0, build d8eb465\n"
     ]
    }
   ],
   "source": [
    "%%bash\n",
    "docker --version"
   ]
  },
  {
   "cell_type": "markdown",
   "metadata": {
    "editable": true,
    "slideshow": {
     "slide_type": "subslide"
    },
    "tags": []
   },
   "source": [
    "## Hello World"
   ]
  },
  {
   "cell_type": "code",
   "execution_count": 2,
   "metadata": {
    "editable": true,
    "scrolled": true,
    "slideshow": {
     "slide_type": "fragment"
    },
    "tags": []
   },
   "outputs": [
    {
     "name": "stderr",
     "output_type": "stream",
     "text": [
      "Unable to find image 'hello-world:latest' locally\n"
     ]
    },
    {
     "name": "stderr",
     "output_type": "stream",
     "text": [
      "latest: Pulling from library/hello-world\n",
      "17eec7bbc9d7: Pulling fs layer\n",
      "17eec7bbc9d7: Download complete\n",
      "17eec7bbc9d7: Pull complete\n",
      "Digest: sha256:54e66cc1dd1fcb1c3c58bd8017914dbed8701e2d8c74d9262e26bd9cc1642d31\n",
      "Status: Downloaded newer image for hello-world:latest\n"
     ]
    },
    {
     "name": "stdout",
     "output_type": "stream",
     "text": [
      "\n",
      "Hello from Docker!\n",
      "This message shows that your installation appears to be working correctly.\n",
      "\n",
      "To generate this message, Docker took the following steps:\n",
      " 1. The Docker client contacted the Docker daemon.\n",
      " 2. The Docker daemon pulled the \"hello-world\" image from the Docker Hub.\n",
      "    (amd64)\n",
      " 3. The Docker daemon created a new container from that image which runs the\n",
      "    executable that produces the output you are currently reading.\n",
      " 4. The Docker daemon streamed that output to the Docker client, which sent it\n",
      "    to your terminal.\n",
      "\n",
      "To try something more ambitious, you can run an Ubuntu container with:\n",
      " $ docker run -it ubuntu bash\n",
      "\n",
      "Share images, automate workflows, and more with a free Docker ID:\n",
      " https://hub.docker.com/\n",
      "\n",
      "For more examples and ideas, visit:\n",
      " https://docs.docker.com/get-started/\n",
      "\n"
     ]
    }
   ],
   "source": [
    "%%bash\n",
    "docker run hello-world"
   ]
  },
  {
   "cell_type": "markdown",
   "metadata": {
    "editable": true,
    "slideshow": {
     "slide_type": "subslide"
    },
    "tags": []
   },
   "source": [
    "## List Images"
   ]
  },
  {
   "cell_type": "code",
   "execution_count": 3,
   "metadata": {
    "editable": true,
    "slideshow": {
     "slide_type": "fragment"
    },
    "tags": []
   },
   "outputs": [
    {
     "name": "stdout",
     "output_type": "stream",
     "text": [
      "REPOSITORY    TAG       IMAGE ID       CREATED       SIZE\n",
      "hello-world   latest    54e66cc1dd1f   7 weeks ago   20.3kB\n"
     ]
    }
   ],
   "source": [
    "%%bash\n",
    "docker image ls"
   ]
  },
  {
   "cell_type": "markdown",
   "metadata": {
    "editable": true,
    "slideshow": {
     "slide_type": "subslide"
    },
    "tags": []
   },
   "source": [
    "## List Containers"
   ]
  },
  {
   "cell_type": "code",
   "execution_count": 4,
   "metadata": {
    "editable": true,
    "slideshow": {
     "slide_type": "fragment"
    },
    "tags": []
   },
   "outputs": [
    {
     "name": "stdout",
     "output_type": "stream",
     "text": [
      "CONTAINER ID   IMAGE         COMMAND    CREATED          STATUS                      PORTS     NAMES\n",
      "2863fb4dc0ef   hello-world   \"/hello\"   14 seconds ago   Exited (0) 13 seconds ago             wizardly_ritchie\n"
     ]
    }
   ],
   "source": [
    "%%bash\n",
    "docker container ls -a"
   ]
  },
  {
   "cell_type": "markdown",
   "metadata": {
    "editable": true,
    "slideshow": {
     "slide_type": "subslide"
    },
    "tags": []
   },
   "source": [
    "## Docker Container Name\n",
    "\n",
    ":::: {.columns}\n",
    "::: {.fragment .column width=\"50%\"}\n",
    "**name defined**\n",
    "Assign name (--name)\n",
    "The --name flag lets you specify a custom identifier for a container. The following example runs a container named test using the nginx:alpine image in detached mode.\n",
    "\n",
    "```bash\n",
    "docker run --name test -d nginx:alpine\n",
    "4bed76d3ad428b889c56c1ecc2bf2ed95cb08256db22dc5ef5863e1d03252a19\n",
    "\n",
    "docker ps\n",
    "CONTAINER ID   IMAGE          COMMAND                  CREATED        STATUS                  PORTS     NAMES\n",
    "4bed76d3ad42   nginx:alpine   \"/docker-entrypoint.…\"   1 second ago   Up Less than a second   80/tcp    test\n",
    "```\n",
    "\n",
    "You can reference the container by name with other commands. For example, the following commands stop and remove a container named test:\n",
    "\n",
    "```bash\n",
    "docker stop test\n",
    "test\n",
    "docker rm test\n",
    "test\n",
    "```\n",
    "\n",
    "::: \n",
    "\n",
    "::: {.fragment .column width=\"50%\"}\n",
    "**name not defined**\n",
    "Name it's random defined by a fancy algorithm  [names-generator.go](https://github.com/moby/moby/blob/master/pkg/namesgenerator/names-generator.go)\n",
    "\n",
    "\n",
    "Moreover, if you connect the container to a user-defined bridge network, other containers on the same network can refer to the container by name via DNS.\n",
    ":::\n",
    "::::\n"
   ]
  },
  {
   "cell_type": "markdown",
   "metadata": {
    "editable": true,
    "slideshow": {
     "slide_type": "subslide"
    },
    "tags": []
   },
   "source": [
    "## Ubuntu\n",
    "```sh\n",
    "docker run -it ubuntu\n",
    "```"
   ]
  },
  {
   "cell_type": "markdown",
   "metadata": {
    "editable": true,
    "slideshow": {
     "slide_type": "slide"
    },
    "tags": []
   },
   "source": [
    "# Play with Docker"
   ]
  },
  {
   "cell_type": "markdown",
   "metadata": {
    "cell_style": "split",
    "editable": true,
    "slideshow": {
     "slide_type": "subslide"
    },
    "tags": []
   },
   "source": [
    "## Docker playground\n",
    "\n",
    "### A simple, interactive and fun playground to learn Docker\n",
    "\n",
    "https://www.docker.com/play-with-docker\n",
    "\n",
    "![](https://www.docker.com/wp-content/uploads/2022/01/Octopus_moby_800-480x258.png.webp)"
   ]
  },
  {
   "cell_type": "markdown",
   "metadata": {
    "editable": true,
    "slideshow": {
     "slide_type": "slide"
    },
    "tags": []
   },
   "source": [
    "# Docker Components"
   ]
  },
  {
   "cell_type": "markdown",
   "metadata": {
    "editable": true,
    "slideshow": {
     "slide_type": "slide"
    },
    "tags": []
   },
   "source": [
    "## Images\n",
    ":::: {.columns}\n",
    "\n",
    "::: {.fragment .column width=\"50%\"}\n",
    "![](https://i.imgflip.com/68irfn.jpg)\n",
    "[Tap Quotes](https://imgflip.com/i/68irfn)\n",
    "\n",
    "::: \n",
    "\n",
    "::: {.fragment .column width=\"50%\"}\n",
    "- An image is a read-only template with instructions for creating a Docker container. \n",
    "- Often, an image is based on another image, with some additional customization. \n",
    "- For example, you may build an image which is based on the ubuntu image, but installs the Apache web server and your application, as well as the configuration details needed to make your application run.\n",
    "::: \n",
    "::::\n",
    "\n"
   ]
  },
  {
   "cell_type": "markdown",
   "metadata": {
    "cell_style": "split",
    "editable": true,
    "slideshow": {
     "slide_type": "subslide"
    },
    "tags": []
   },
   "source": [
    "## Image layers\n",
    "\n",
    ":::: {.columns}\n",
    "\n",
    "::: {.fragment .column width=\"50%\"}\n",
    "- You might create your own images or you might only use those created by others and  published in a registry. \n",
    "- To build your own image, you create a Dockerfile with a simple syntax for defining the steps needed to create the image and run it. \n",
    "- Each instruction in a Dockerfile creates a layer in the image. When you change the Dockerfile and rebuild the image, only those layers which have changed are rebuilt. \n",
    "- This is part of what makes images so lightweight, small, and fast, when compared to other virtualization technologies.\n",
    "::: \n",
    "\n",
    "::: {.fragment .column width=\"50%\"}\n",
    "![](https://miro.medium.com/max/1400/1*Z8zyVBwpwur2tTdRTkdG8g.png)\n",
    "https://ragin.medium.com/docker-what-it-is-how-images-are-structured-docker-vs-vm-and-some-tips-part-1-d9686303590f\n",
    ":::\n",
    "::::"
   ]
  },
  {
   "cell_type": "markdown",
   "metadata": {
    "editable": true,
    "slideshow": {
     "slide_type": "slide"
    },
    "tags": []
   },
   "source": [
    "## Containers\n",
    "\n",
    "::: {.fragment}\n",
    "A container is a runnable instance of an image. You can create, start, stop, move, or delete a container using the Docker API or CLI. You can connect a container to one or more networks, attach storage to it, or even create a new image based on its current state.\n",
    ":::\n",
    "\n",
    "::: {.fragment}\n",
    "By default, a container is relatively well isolated from other containers and its host machine. You can control how isolated a container’s network, storage, or other underlying subsystems are from other containers or from the host machine.\n",
    ":::\n",
    "\n",
    "::: {.fragment}\n",
    "A container is defined by its image as well as any configuration options you provide to it when you create or start it. When a container is removed, any changes to its state that are not stored in persistent storage disappear.\n",
    ":::"
   ]
  },
  {
   "cell_type": "markdown",
   "metadata": {
    "slideshow": {
     "slide_type": "subslide"
    }
   },
   "source": [
    "## Docker Hub"
   ]
  },
  {
   "cell_type": "markdown",
   "metadata": {
    "slideshow": {
     "slide_type": "fragment"
    }
   },
   "source": [
    "Docker Hub is a service provided by Docker for finding and sharing container images with your team. It is the world’s largest repository of container images with an array of content sources including container community developers, open source projects and independent software vendors (ISV) building and distributing their code in containers.\n",
    "\n",
    "https://docs.docker.com/docker-hub/\n",
    "\n",
    "\n",
    "For production enviroments consider [rate limits](https://www.docker.com/increase-rate-limits) set in November 2020\n"
   ]
  },
  {
   "cell_type": "markdown",
   "metadata": {
    "slideshow": {
     "slide_type": "slide"
    }
   },
   "source": [
    "## Docker CLI"
   ]
  },
  {
   "cell_type": "markdown",
   "metadata": {
    "slideshow": {
     "slide_type": "fragment"
    }
   },
   "source": [
    "The ```docker run``` command first **creates** a writeable container layer over the specified image, and then ***starts*** it using the specified command. \n",
    "\n",
    "That is, ```docker run``` is equivalent to the API ```/containers/create``` then ```/containers/(id)/start```. \n",
    "\n",
    "A stopped container can be restarted with all its previous changes intact using docker start. \n",
    "\n",
    "See docker ps -a to view a list of all containers.\n",
    "\n",
    "The ```docker run``` command can be used in combination with ```docker commit``` to change the command that a container runs.\n",
    "\n",
    "<https://docs.docker.com/engine/reference/commandline/run/>"
   ]
  },
  {
   "cell_type": "markdown",
   "metadata": {
    "slideshow": {
     "slide_type": "slide"
    }
   },
   "source": [
    "## Visual Studio Code Integration"
   ]
  },
  {
   "cell_type": "markdown",
   "metadata": {
    "slideshow": {
     "slide_type": "fragment"
    }
   },
   "source": [
    "The Docker extension makes it easy to build, manage, and deploy containerized applications from Visual Studio Code.\n",
    "\n",
    "This page provides an overview of the Docker extension capabilities; use the side menu to learn more about topics of interest. If you are just getting started with Docker development, try the Docker tutorial first to understand key Docker concepts\n",
    "\n",
    "<https://code.visualstudio.com/docs/containers/overview>"
   ]
  },
  {
   "cell_type": "markdown",
   "metadata": {
    "editable": true,
    "slideshow": {
     "slide_type": "slide"
    },
    "tags": []
   },
   "source": [
    "# Docker as a service"
   ]
  },
  {
   "cell_type": "markdown",
   "metadata": {
    "editable": true,
    "slideshow": {
     "slide_type": "subslide"
    },
    "tags": []
   },
   "source": [
    "# Amazon Web Services\n",
    "\n",
    ":::: {.columns}\n",
    "\n",
    "::: {.fragment .column width=\"50%\"}\n",
    "\n",
    "> Docker lets you build, test, and deploy applications quickly\n",
    "https://aws.amazon.com/docker/\n",
    "\n",
    "::: \n",
    "\n",
    "::: {.fragment .column width=\"50%\"}\n",
    "\n",
    "\n",
    "List of Docker AWS services (updated Sep 2025)\n",
    "![](images/AWS-Docker.png)\n",
    "\n",
    ":::\n",
    "::::\n"
   ]
  },
  {
   "cell_type": "markdown",
   "metadata": {
    "editable": true,
    "slideshow": {
     "slide_type": "subslide"
    },
    "tags": []
   },
   "source": [
    "## [Elastic Container Service (ECS)](https://aws.amazon.com/ecs/)\n",
    "\n",
    ":::: {.columns}\n",
    "\n",
    "::: {.fragment .column width=\"50%\"}\n",
    " \n",
    "> Run highly secure, reliable, and scalable containers (2024)\n",
    "\n",
    "> Easily build, manage, and run containerized applications at any scale (2025)\n",
    "\n",
    "Amazon ECS is a fully managed container orchestration service that enables teams to build, manage, and run even the most demanding containerized workloads without the complexity of infrastructure management, freeing up development teams to innovate faster.\n",
    "\n",
    ":::\n",
    "::: {.fragment .column width=\"50%\"}\n",
    "[▶![](https://img.youtube.com/vi/FnFvpIsBrog/0.jpg)](https://www.youtube.com/watch?v=FnFvpIsBrog)\n",
    ":::\n",
    "::::"
   ]
  },
  {
   "cell_type": "markdown",
   "metadata": {
    "editable": true,
    "slideshow": {
     "slide_type": "subslide"
    },
    "tags": []
   },
   "source": [
    "## [Elastic Kubernetes Service (EKS)](https://aws.amazon.com/eks/)\n",
    ":::: {.columns}\n",
    "\n",
    "::: {.fragment .column width=\"50%\"}\n",
    "> Build, run, and scale production-ready Kubernetes applications easily across any environment.\n",
    "\n",
    "Amazon Elastic Kubernetes Service (Amazon EKS) enables teams of any size or skill level to build, run, and scale production-ready applications easily across any environment.\n",
    "::: \n",
    "\n",
    "::: {.fragment .column width=\"50%\"}\n",
    "[▶![](https://img.youtube.com/vi/fSpsC_M9iWc/0.jpg)](https://www.youtube.com/watch?v=fSpsC_M9iWc)\n",
    ":::\n",
    "::::"
   ]
  },
  {
   "cell_type": "markdown",
   "metadata": {
    "editable": true,
    "slideshow": {
     "slide_type": "subslide"
    },
    "tags": []
   },
   "source": [
    "## [AWS Fargate](https://aws.amazon.com/fargate/)\n",
    "\n",
    ":::: {.columns}\n",
    "\n",
    "::: {.fragment .column width=\"50%\"}\n",
    "\n",
    "> Serverless compute for containers\n",
    "\n",
    "- AWS Fargate is a **serverless**, **pay-as-you-go** compute engine that lets you focus on building applications without managing servers. \n",
    "- Moving tasks such as server management, resource allocation, and scaling to AWS does not only improve your operational posture, but also accelerates the process of going from idea to production on the cloud, and lowers the total cost of ownership. \n",
    "::: \n",
    "\n",
    "::: {.fragment .column width=\"50%\"}\n",
    "[▶![](https://img.youtube.com/vi/4CHu1ErN51o/0.jpg)](https://www.youtube.com/watch?v=4CHu1ErN51o)\n",
    "\n",
    ":::\n",
    "::::"
   ]
  },
  {
   "cell_type": "markdown",
   "metadata": {
    "editable": true,
    "slideshow": {
     "slide_type": "subslide"
    },
    "tags": []
   },
   "source": [
    "## [AWS Batch](https://aws.amazon.com/batch/)\n",
    "\n",
    ":::: {.columns}\n",
    "\n",
    "::: {.fragment .column width=\"50%\"}\n",
    "\n",
    "> Batch processing for ML model training, simulation, and analysis at any scale\n",
    "\n",
    "AWS Batch is a fully managed batch computing service that plans, schedules, and runs your containerized batch ML, simulation, and analytics workloads across the full range of AWS compute offerings, such as Amazon ECS, Amazon EKS, AWS Fargate, and Spot or On-Demand Instances. \n",
    "::: \n",
    "\n",
    "::: {.fragment .column width=\"50%\"}\n",
    "[▶![](https://img.youtube.com/vi/j_iI1DzSi5g/0.jpg)](https://www.youtube.com/watch?v=j_iI1DzSi5g)\n",
    "\n",
    ":::\n",
    "::::"
   ]
  },
  {
   "cell_type": "markdown",
   "metadata": {
    "editable": true,
    "slideshow": {
     "slide_type": "subslide"
    },
    "tags": []
   },
   "source": [
    "## [AWS Copilot](https://aws.amazon.com/containers/copilot/)\n",
    "\n",
    ":::: {.columns}\n",
    "\n",
    "::: {.fragment .column width=\"50%\"}\n",
    "\n",
    "> Command line interface for containerized applications\n",
    "\n",
    "::: \n",
    "\n",
    "::: {.fragment .column width=\"50%\"}\n",
    "\n",
    "![](https://d1.awsstatic.com/product-page-diagram_Amazon-ECS-Copilot-CLI.6d13fa6789f5d8d43939da3c67cd0414fba3a2c3.png){.lightbox}\n",
    "\n",
    ":::\n",
    "::::"
   ]
  },
  {
   "cell_type": "markdown",
   "metadata": {
    "cell_style": "center",
    "editable": true,
    "slideshow": {
     "slide_type": "subslide"
    },
    "tags": []
   },
   "source": [
    "# Azure\n",
    "\n",
    "::: {.fragment .column width=\"50%\"}\n",
    "> Wherever you are in your app modernization journey, accelerate your containerized application development while meeting your security requirements.\n",
    "\n",
    "<https://azure.microsoft.com/en-us/product-categories/containers/>\n",
    "::: \n"
   ]
  },
  {
   "cell_type": "markdown",
   "metadata": {
    "editable": true,
    "slideshow": {
     "slide_type": "subslide"
    },
    "tags": []
   },
   "source": [
    "## Azure Kubernetes Service (AKS)\n",
    "\n",
    ":::: {.columns}\n",
    "\n",
    "::: {.fragment .column width=\"50%\"}\n",
    "\n",
    "> Deploy and scale containers on managed Kubernetes.\n",
    "\n",
    "::: \n",
    "\n",
    "::: {.fragment .column width=\"50%\"}\n",
    "![](https://cdn-dynmedia-1.microsoft.com/is/image/microsoftcorp/198300-Overview-800x513?resMode=sharp2&op_usm=1.5,0.65,15,0&wid=2000&hei=1279&qlt=100&fit=constrain){.lightbox}\n",
    ":::\n",
    "::::\n"
   ]
  },
  {
   "cell_type": "markdown",
   "metadata": {
    "editable": true,
    "slideshow": {
     "slide_type": "subslide"
    },
    "tags": []
   },
   "source": [
    "## [Azure Container Apps](https://azure.microsoft.com/en-us/products/container-apps/)\n",
    "\n",
    ":::: {.columns}\n",
    "\n",
    "::: {.fragment .column width=\"50%\"}\n",
    "\n",
    ">  Run AI apps and microservices using serverless containers.\n",
    "\n",
    "::: \n",
    "\n",
    "::: {.fragment .column width=\"50%\"}\n",
    "\n",
    "![](https://cdn-dynmedia-1.microsoft.com/is/image/microsoftcorp/1028196-Hero-media-updated?resMode=sharp2&op_usm=1.5,0.65,15,0&wid=1000&hei=597&qlt=100&fit=constrain){.lightbox}\n",
    "\n",
    ":::\n",
    "::::\n",
    "\n",
    "\n",
    "\n"
   ]
  },
  {
   "cell_type": "markdown",
   "metadata": {
    "editable": true,
    "slideshow": {
     "slide_type": "subslide"
    },
    "tags": []
   },
   "source": [
    "## [App Services](https://azure.microsoft.com/en-us/products/app-service/containers/)\n",
    "\n",
    ":::: {.columns}\n",
    "\n",
    "::: {.fragment .column width=\"50%\"}\n",
    "\n",
    "> Quickly build, deploy, and scale web apps and APIs on your terms. Work with .NET, .NET Core, Node.js, Java, Python or PHP, in containers or running on Windows or Linux. Meet rigorous, enterprise-grade performance, security and compliance requirements used a trusted, fully managed platform that handles over 40 billion requests per day.\n",
    "\n",
    "::: \n",
    "\n",
    "::: {.fragment .column width=\"50%\"}\n",
    "\n",
    "![](https://cdn-dynmedia-1.microsoft.com/is/image/microsoftcorp/Azure-App-Services-Video-2_tbmnl_en-us?resMode=sharp2&op_usm=1.5,0.65,15,0&wid=1920&hei=1080&qlt=100&fit=constrain){.lightbox}\n",
    "\n",
    ":::\n",
    "::::\n"
   ]
  },
  {
   "cell_type": "markdown",
   "metadata": {
    "editable": true,
    "slideshow": {
     "slide_type": "subslide"
    },
    "tags": []
   },
   "source": [
    "## [Azure Container Instances](https://azure.microsoft.com/en-us/services/container-instances/)\n",
    "\n",
    ":::: {.columns}\n",
    "\n",
    "::: {.fragment .column width=\"50%\"}\n",
    "\n",
    "> Launch containers with hypervisor isolation.\n",
    "\n",
    "\n",
    "::: \n",
    "\n",
    "::: {.fragment .column width=\"50%\"}\n",
    "\n",
    "![](https://azurecomcdn.azureedge.net/mediahandler/acomblog/media/Default/blog/a696ef01-90b3-4c1a-9a70-8cd9791c8204.gif){.lightbox}\n",
    "\n",
    ":::\n",
    "::::"
   ]
  },
  {
   "cell_type": "markdown",
   "metadata": {
    "editable": true,
    "slideshow": {
     "slide_type": "subslide"
    },
    "tags": []
   },
   "source": [
    "# [Google Cloud](https://cloud.google.com/containers)\n",
    "\n",
    ":::: {.columns}\n",
    "\n",
    "::: {.fragment .column width=\"50%\"}\n",
    "\n",
    "> A better way to develop and deploy applications.\n",
    "\n",
    "::: \n",
    "\n",
    "::: {.fragment .column width=\"50%\"}\n",
    "\n",
    "**Everything at Google runs in containers**\n",
    "Google has been using containers since the early 2000s—from Gmail to YouTube and Search, everything at Google operates in containers.\n",
    "\n",
    "Since creating and open sourcing Kubernetes, an open source system to deploy, scale, and manage containerized applications anywhere, Google is committed to providing the easiest and safest way to manage Kubernetes.\n",
    "\n",
    ":::\n",
    "::::"
   ]
  },
  {
   "cell_type": "markdown",
   "metadata": {
    "editable": true,
    "slideshow": {
     "slide_type": "subslide"
    },
    "tags": []
   },
   "source": [
    "## [Google Kubernetes Engine (GKE)](https://cloud.google.com/kubernetes-engine)\n",
    "\n",
    ":::: {.columns}\n",
    "\n",
    "::: {.fragment .column width=\"50%\"}\n",
    "\n",
    "> Kubernetes, evolved: The foundation for platform builders\n",
    "\n",
    "::: \n",
    "\n",
    "::: {.fragment .column width=\"50%\"}\n",
    "![](https://storage.googleapis.com/gweb-cloudblog-publish/images/GKE_banner.max-2600x2600.png){.lightbox .r-scretch}\n",
    "\n",
    ":::\n",
    "::::"
   ]
  },
  {
   "cell_type": "markdown",
   "metadata": {
    "editable": true,
    "slideshow": {
     "slide_type": ""
    },
    "tags": []
   },
   "source": [
    "## [Cloud Run](https://cloud.google.com/run)\n",
    "\n",
    ":::: {.columns}\n",
    "\n",
    "::: {.fragment .column width=\"50%\"}\n",
    "\n",
    "> Build apps or websites quickly on a fully managed platform\n",
    "\n",
    "::: \n",
    "\n",
    "::: {.fragment .column width=\"50%\"}\n",
    "\n",
    "[▶![](https://img.youtube.com/vi/1t94tdyojs0/0.jpg)](https://www.youtube.com/watch?v=1t94tdyojs0)\n",
    "\n",
    ":::\n",
    "::::\n",
    "\n",
    "\n"
   ]
  },
  {
   "cell_type": "markdown",
   "metadata": {
    "editable": true,
    "slideshow": {
     "slide_type": "subslide"
    },
    "tags": []
   },
   "source": [
    "# Oracle Cloud\n",
    "\n",
    ":::: {.columns}\n",
    "\n",
    "::: {.fragment .column width=\"50%\"}\n",
    "\n",
    "> Oracle Cloud Infrastructure (OCI) Container Instances is a serverless compute service that enables you to instantly run containers without managing any servers.\n",
    "\n",
    "::: \n",
    "\n",
    "::: {.fragment .column width=\"50%\"}\n",
    "\n",
    "[▶![](https://img.youtube.com/vi/zwNw-42vVsI/0.jpg)](https://www.youtube.com/watch?v=zwNw-42vVsI)\n",
    "\n",
    ":::\n",
    "::::\n"
   ]
  },
  {
   "cell_type": "markdown",
   "metadata": {
    "slideshow": {
     "slide_type": "slide"
    }
   },
   "source": [
    "# Whats new ?"
   ]
  },
  {
   "cell_type": "markdown",
   "metadata": {
    "slideshow": {
     "slide_type": "subslide"
    }
   },
   "source": [
    "## [Docker+Wasm Beta](https://docs.docker.com/desktop/wasm/)\n",
    "\n",
    ":::: {.columns}\n",
    "\n",
    "::: {.fragment .column width=\"50%\"}\n",
    "\n",
    "> Solomon Hykes, a co-founder of Docker, wrote in 2019, \"If WASM+WASI existed in 2008, we wouldn't have needed to create Docker. That's how important it is. WebAssembly on the server is the future of computing.\" Wasmer, out in version 1.0, provides \"software containerization, we create universal binaries that work anywhere without modification, including operating systems like Linux, macOS, Windows, and web browsers. Wasm automatically sandboxes applications by default for secure execution\".\n",
    "> \n",
    "::: \n",
    "\n",
    "::: {.fragment .column width=\"50%\"}\n",
    "Turn on Wasm workloads \n",
    "<https://docs.docker.com/desktop/features/wasm/>\n",
    ":::\n",
    "::::\n",
    "\n",
    "\n"
   ]
  },
  {
   "cell_type": "markdown",
   "metadata": {
    "slideshow": {
     "slide_type": "slide"
    }
   },
   "source": [
    "# Not only Docker"
   ]
  },
  {
   "cell_type": "markdown",
   "metadata": {},
   "source": [
    "## Docker Alternatives\n",
    "\n",
    "1. [Podman](https://podman.io/)\n",
    "2. [Containerd](https://containerd.io/)\n",
    "3. [CRI-O](https://cri-o.io/)\n",
    "4. [LXC](https://linuxcontainers.org/)\n",
    "5. [runc](https://github.com/opencontainers/runc)\n",
    "\n"
   ]
  },
  {
   "cell_type": "markdown",
   "metadata": {
    "slideshow": {
     "slide_type": "subslide"
    }
   },
   "source": [
    "## Container technology - statistics & facts\n",
    "\n",
    ":::: {.columns}\n",
    "\n",
    "::: {.fragment .column width=\"50%\"}\n",
    "[Datanyze](https://www.datanyze.com/market-share/containerization--321)\n",
    "\n",
    "![](images/containermarketshare.png){.lightbox}\n",
    "::: \n",
    "\n",
    "::: {.fragment .column width=\"50%\"}\n",
    "**Docker fund raising**\n",
    "\n",
    "As Docker gains momentum, it hauls in $105M Series C on $2B valuation\n",
    "\n",
    "<https://techcrunch.com/2022/03/31/as-docker-gains-momentum-it-hauls-in-105m-series-c-on-2b-valuation/>\n",
    "\n",
    "Still increasing \n",
    "![](images/dockerrevenue.png)\n",
    ":::\n",
    "::::"
   ]
  }
 ],
 "metadata": {
  "celltoolbar": "Slideshow",
  "kernelspec": {
   "display_name": "Python 3 (ipykernel)",
   "language": "python",
   "name": "python3"
  },
  "language_info": {
   "codemirror_mode": {
    "name": "ipython",
    "version": 3
   },
   "file_extension": ".py",
   "mimetype": "text/x-python",
   "name": "python",
   "nbconvert_exporter": "python",
   "pygments_lexer": "ipython3",
   "version": "3.12.3"
  },
  "rise": {
   "autolaunch": true,
   "enable_chalkboard": "true",
   "footer": "<div class=\"tap-footer\"> *** Technologies for advanced programming (TAP) - 2024 ***</div>",
   "header": "<div class=\"tap-header\"></div>",
   "scroll": true,
   "theme": "white"
  }
 },
 "nbformat": 4,
 "nbformat_minor": 4
}
